{
 "cells": [
  {
   "cell_type": "code",
   "execution_count": null,
   "id": "946dadee",
   "metadata": {
    "vscode": {
     "languageId": "plaintext"
    }
   },
   "outputs": [],
   "source": []
  },
  {
   "cell_type": "code",
   "execution_count": null,
   "id": "4131af99",
   "metadata": {
    "vscode": {
     "languageId": "plaintext"
    }
   },
   "outputs": [],
   "source": [
    "# Step 1. Imports\n",
    "import pandas as pd\n",
    "import yfinance as yf\n",
    "import matplotlib.pyplot as plt\n",
    "import seaborn as sns\n",
    "import ta\n",
    "import os\n",
    "from datetime import datetime\n",
    "\n"
   ]
  },
  {
   "cell_type": "code",
   "execution_count": null,
   "id": "b421af0f",
   "metadata": {
    "vscode": {
     "languageId": "plaintext"
    }
   },
   "outputs": [],
   "source": [
    "\n",
    "\n",
    "# Step 2. Parameters\n",
    "TICKER = \"AAPL\"\n",
    "START_DATE = \"2015-01-01\"\n",
    "END_DATE = datetime.today().strftime('%Y-%m-%d')\n",
    "\n",
    "\n"
   ]
  },
  {
   "cell_type": "code",
   "execution_count": null,
   "id": "f4ea8d37",
   "metadata": {
    "vscode": {
     "languageId": "plaintext"
    }
   },
   "outputs": [],
   "source": [
    "# Step 3. Create data folders if not exist\n",
    "os.makedirs(\"../data/raw\", exist_ok=True)\n",
    "os.makedirs(\"../data/processed\", exist_ok=True)\n",
    "\n"
   ]
  },
  {
   "cell_type": "code",
   "execution_count": null,
   "id": "8d954d79",
   "metadata": {
    "vscode": {
     "languageId": "plaintext"
    }
   },
   "outputs": [],
   "source": [
    "# Step 4. Download historical data\n",
    "print(f\"Downloading {TICKER} data...\")\n",
    "data = yf.download(TICKER, start=START_DATE, end=END_DATE)\n",
    "data.reset_index(inplace=True)\n",
    "print(f\"Data shape: {data.shape}\")\n",
    "data.head()\n",
    "\n"
   ]
  },
  {
   "cell_type": "code",
   "execution_count": null,
   "id": "dc1874da",
   "metadata": {
    "vscode": {
     "languageId": "plaintext"
    }
   },
   "outputs": [],
   "source": [
    "# Step 5. Save raw data\n",
    "raw_path = f\"../data/raw/{TICKER}.csv\"\n",
    "data.to_csv(raw_path, index=False)\n",
    "print(f\"Raw data saved to {raw_path}\")\n",
    "\n"
   ]
  },
  {
   "cell_type": "code",
   "execution_count": null,
   "id": "8bb482c4",
   "metadata": {
    "vscode": {
     "languageId": "plaintext"
    }
   },
   "outputs": [],
   "source": [
    "# Step 6. Add technical indicators using 'ta' library\n",
    "df = data.copy()\n",
    "\n",
    "# Simple Moving Average (SMA)\n",
    "df[\"SMA_20\"] = ta.trend.sma_indicator(df[\"Close\"], window=20)\n",
    "df[\"SMA_50\"] = ta.trend.sma_indicator(df[\"Close\"], window=50)\n",
    "\n",
    "# Relative Strength Index (RSI)\n",
    "df[\"RSI_14\"] = ta.momentum.rsi(df[\"Close\"], window=14)\n",
    "\n",
    "# Bollinger Bands\n",
    "boll = ta.volatility.BollingerBands(df[\"Close\"], window=20, window_dev=2)\n",
    "df[\"BB_High\"] = boll.bollinger_hband()\n",
    "df[\"BB_Low\"] = boll.bollinger_lband()\n",
    "df[\"BB_Width\"] = df[\"BB_High\"] - df[\"BB_Low\"]\n",
    "\n"
   ]
  },
  {
   "cell_type": "code",
   "execution_count": null,
   "id": "62a2b8ba",
   "metadata": {
    "vscode": {
     "languageId": "plaintext"
    }
   },
   "outputs": [],
   "source": [
    "# Step 7. Drop NaN values\n",
    "df.dropna(inplace=True)\n",
    "\n"
   ]
  },
  {
   "cell_type": "code",
   "execution_count": null,
   "id": "8facaca4",
   "metadata": {
    "vscode": {
     "languageId": "plaintext"
    }
   },
   "outputs": [],
   "source": [
    "# Step 8. Save processed data\n",
    "processed_path = f\"../data/processed/{TICKER}_features.csv\"\n",
    "df.to_csv(processed_path, index=False)\n",
    "print(f\"Processed data saved to {processed_path}\")\n",
    "\n"
   ]
  },
  {
   "cell_type": "code",
   "execution_count": null,
   "id": "39f27fb2",
   "metadata": {
    "vscode": {
     "languageId": "plaintext"
    }
   },
   "outputs": [],
   "source": [
    "# Step 9. Quick visualization\n",
    "\n",
    "\n",
    "plt.figure(figsize=(12,6))\n",
    "plt.plot(df[\"Date\"], df[\"Close\"], label=\"Close Price\", color=\"blue\")\n",
    "plt.plot(df[\"Date\"], df[\"SMA_20\"], label=\"SMA 20\", color=\"orange\")\n",
    "plt.plot(df[\"Date\"], df[\"SMA_50\"], label=\"SMA 50\", color=\"green\")\n",
    "plt.fill_between(df[\"Date\"], df[\"BB_Low\"], df[\"BB_High\"], color='gray', alpha=0.1, label=\"Bollinger Band\")\n",
    "plt.title(f\"{TICKER} Price with Technical Indicators\")\n",
    "plt.legend()\n",
    "plt.show()"
   ]
  }
 ],
 "metadata": {
  "language_info": {
   "name": "python"
  }
 },
 "nbformat": 4,
 "nbformat_minor": 5
}
