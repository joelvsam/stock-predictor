{
 "cells": [
  {
   "cell_type": "code",
   "execution_count": null,
   "id": "2f6c39bf-8552-4768-a807-9d8d234f2ea5",
   "metadata": {},
   "outputs": [],
   "source": [
    "# ------------------------\n",
    "# Step 1: Imports\n",
    "# ------------------------\n",
    "import pandas as pd\n",
    "import yfinance as yf\n",
    "import matplotlib.pyplot as plt\n",
    "import seaborn as sns\n",
    "import ta\n",
    "from datetime import datetime\n",
    "from sklearn.model_selection import train_test_split\n",
    "from sklearn.linear_model import LinearRegression\n",
    "from sklearn.metrics import mean_squared_error, r2_score\n",
    "from xgboost import XGBRegressor\n",
    "import numpy as np\n",
    "\n",
    "sns.set(style=\"darkgrid\")\n",
    "plt.rcParams[\"figure.figsize\"] = (12, 6)\n"
   ]
  },
  {
   "cell_type": "code",
   "execution_count": null,
   "id": "a905d4e6-9925-4b2f-a397-5f22543c7aab",
   "metadata": {},
   "outputs": [],
   "source": [
    "# ------------------------\n",
    "# Step 2: Download stock data\n",
    "# ------------------------\n",
    "ticker = \"AAPL\"  # Change this as needed\n",
    "data = yf.download(ticker, period=\"5y\", interval=\"1d\")\n",
    "df = data.copy()\n",
    "print(df.head())\n"
   ]
  },
  {
   "cell_type": "code",
   "execution_count": null,
   "id": "b9364e8f-a869-4994-bb46-4113ebf7f25a",
   "metadata": {},
   "outputs": [],
   "source": [
    "# ------------------------\n",
    "# Step 2: Download stock data\n",
    "# ------------------------\n",
    "ticker = \"AAPL\"  # Change this as needed\n",
    "data = yf.download(ticker, period=\"5y\", interval=\"1d\")\n",
    "df = data.copy()\n",
    "print(df.head())\n"
   ]
  },
  {
   "cell_type": "code",
   "execution_count": null,
   "id": "32e29855-ec53-438f-adb0-2b2ebc22133c",
   "metadata": {},
   "outputs": [],
   "source": [
    "# ------------------------\n",
    "# Step 4: Visualize Close Price with SMAs\n",
    "# ------------------------\n",
    "plt.figure(figsize=(12,6))\n",
    "plt.plot(df['Close'], label='Close')\n",
    "plt.plot(df['SMA_20'], label='SMA 20')\n",
    "plt.plot(df['SMA_50'], label='SMA 50')\n",
    "plt.title(f\"{ticker} Close Price with SMA 20 & 50\")\n",
    "plt.xlabel(\"Date\")\n",
    "plt.ylabel(\"Price\")\n",
    "plt.legend()\n",
    "plt.show()\n"
   ]
  },
  {
   "cell_type": "code",
   "execution_count": null,
   "id": "246acff2-8386-41d0-bf45-b05f86bcf3cc",
   "metadata": {},
   "outputs": [],
   "source": [
    "# ------------------------\n",
    "# Step 5: Prepare Features & Target\n",
    "# ------------------------\n",
    "df[\"Target\"] = df[\"Close\"].shift(-1)  # Predict next day's close\n",
    "df.dropna(inplace=True)\n",
    "\n",
    "features = [\n",
    "    \"SMA_20\", \"SMA_50\", \"EMA_20\", \"EMA_50\",\n",
    "    \"RSI_14\", \"MACD\", \"MACD_Signal\",\n",
    "    \"BB_High\", \"BB_Low\", \"BB_Width\",\n",
    "    \"Return_1D\", \"Return_5D\", \"Volume_Change\"\n",
    "]\n",
    "\n",
    "X = df[features]\n",
    "y = df[\"Target\"]\n"
   ]
  },
  {
   "cell_type": "code",
   "execution_count": null,
   "id": "d4012318-0320-41c8-a1d3-b380f3bb1644",
   "metadata": {},
   "outputs": [],
   "source": [
    "# ------------------------\n",
    "# Step 6: Train/Test Split\n",
    "# ------------------------\n",
    "X_train, X_test, y_train, y_test = train_test_split(\n",
    "    X, y, test_size=0.2, shuffle=False\n",
    ")\n"
   ]
  },
  {
   "cell_type": "code",
   "execution_count": null,
   "id": "55c561fe-313d-41ac-8952-da90a93c49cf",
   "metadata": {},
   "outputs": [],
   "source": [
    "# ------------------------\n",
    "# Step 7: Linear Regression\n",
    "# ------------------------\n",
    "lr_model = LinearRegression()\n",
    "lr_model.fit(X_train, y_train)\n",
    "\n",
    "y_pred_lr = lr_model.predict(X_test)\n",
    "\n",
    "mse_lr = mean_squared_error(y_test, y_pred_lr)\n",
    "rmse_lr = np.sqrt(mse_lr)\n",
    "r2_lr = r2_score(y_test, y_pred_lr)\n",
    "\n",
    "print(\"Linear Regression Performance:\")\n",
    "print(f\"MSE: {mse_lr:.4f}\")\n",
    "print(f\"RMSE: {rmse_lr:.4f}\")\n",
    "print(f\"R²: {r2_lr:.4f}\")\n"
   ]
  },
  {
   "cell_type": "code",
   "execution_count": null,
   "id": "52e7d314-4a59-4a59-bb39-f6e15da8aaf1",
   "metadata": {},
   "outputs": [],
   "source": [
    "# ------------------------\n",
    "# Step 8: XGBoost\n",
    "# ------------------------\n",
    "xgb_model = XGBRegressor(\n",
    "    n_estimators=100,\n",
    "    learning_rate=0.1,\n",
    "    max_depth=3,\n",
    "    random_state=42\n",
    ")\n",
    "xgb_model.fit(X_train, y_train)\n",
    "\n",
    "y_pred_xgb = xgb_model.predict(X_test)\n",
    "\n",
    "mse_xgb = mean_squared_error(y_test, y_pred_xgb)\n",
    "rmse_xgb = np.sqrt(mse_xgb)\n",
    "r2_xgb = r2_score(y_test, y_pred_xgb)\n",
    "\n",
    "print(\"XGBoost Performance:\")\n",
    "print(f\"MSE: {mse_xgb:.4f}\")\n",
    "print(f\"RMSE: {rmse_xgb:.4f}\")\n",
    "print(f\"R²: {r2_xgb:.4f}\")\n"
   ]
  },
  {
   "cell_type": "code",
   "execution_count": null,
   "id": "c4ed4cf2-b8b1-48bd-a47f-f6d3b2b92787",
   "metadata": {},
   "outputs": [],
   "source": [
    "# ------------------------\n",
    "# Step 9: Compare Predictions\n",
    "# ------------------------\n",
    "plt.figure(figsize=(12,6))\n",
    "plt.plot(y_test.values, label=\"Actual Close\", color=\"black\")\n",
    "plt.plot(y_pred_lr, label=\"Linear Regression\", color=\"blue\")\n",
    "plt.plot(y_pred_xgb, label=\"XGBoost\", color=\"green\")\n",
    "plt.title(f\"{ticker} - Model Comparison (Next-Day Close Prediction)\")\n",
    "plt.xlabel(\"Test Data Points\")\n",
    "plt.ylabel(\"Price\")\n",
    "plt.legend()\n",
    "plt.show()\n"
   ]
  }
 ],
 "metadata": {
  "kernelspec": {
   "display_name": "Python 3 (ipykernel)",
   "language": "python",
   "name": "python3"
  },
  "language_info": {
   "codemirror_mode": {
    "name": "ipython",
    "version": 3
   },
   "file_extension": ".py",
   "mimetype": "text/x-python",
   "name": "python",
   "nbconvert_exporter": "python",
   "pygments_lexer": "ipython3",
   "version": "3.13.7"
  }
 },
 "nbformat": 4,
 "nbformat_minor": 5
}
